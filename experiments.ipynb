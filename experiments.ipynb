{
 "cells": [
  {
   "cell_type": "markdown",
   "metadata": {},
   "source": [
    "# Legal Chatbot Experiments\n",
    "\n",
    "This notebook demonstrates the process of loading legal documents, embedding them, and storing them in ChromaDB for our Indian legal assistant chatbot."
   ]
  },
  {
   "cell_type": "markdown",
   "metadata": {},
   "source": [
    "## 1. Setup and Imports"
   ]
  },
  {
   "cell_type": "code",
   "execution_count": 1,
   "metadata": {},
   "outputs": [],
   "source": [
    "# Import necessary libraries\n",
    "import os\n",
    "from dotenv import load_dotenv\n",
    "from langchain_community.document_loaders import PyPDFLoader\n",
    "from langchain.text_splitter import RecursiveCharacterTextSplitter\n",
    "from langchain_community.embeddings import HuggingFaceEmbeddings\n",
    "from langchain_chroma import Chroma\n",
    "\n",
    "# Load environment variables\n",
    "load_dotenv()\n",
    "\n",
    "# Set paths\n",
    "DATA_DIR = \"data\"\n",
    "CHROMA_DIR = \"chroma_db\""
   ]
  },
  {
   "cell_type": "markdown",
   "metadata": {},
   "source": [
    "## 2. Document Loading\n",
    "\n",
    "First, we'll load the PDF documents from the data directory. We'll give special treatment to the Constitution of India."
   ]
  },
  {
   "cell_type": "code",
   "execution_count": 2,
   "metadata": {},
   "outputs": [
    {
     "name": "stdout",
     "output_type": "stream",
     "text": [
      "Found 41 PDF files\n",
      "Loading data\\20230302100 (1).pdf\n",
      "Loading data\\20230302100.pdf\n",
      "Loading data\\2023030213-1.pdf\n",
      "Loading data\\2023030215-1.pdf\n",
      "Loading data\\2023030215.pdf\n",
      "Loading data\\2023030216-3.pdf\n",
      "Loading data\\2023030219-2 (1).pdf\n",
      "Loading data\\2023030219-2.pdf\n",
      "Loading data\\2023030227.pdf\n",
      "Loading data\\2023030233.pdf\n",
      "Loading data\\2023030234-1.pdf\n",
      "Loading data\\2023030234-2.pdf\n",
      "Loading data\\2023030236-1.pdf\n",
      "Loading data\\2023030239-1.pdf\n",
      "Loading data\\2023030241.pdf\n",
      "Loading data\\2023030245.pdf\n",
      "Loading data\\2023030251-2.pdf\n",
      "Loading data\\2023030255-1.pdf\n",
      "Loading data\\2023030259-2.pdf\n",
      "Loading data\\2023030265.pdf\n",
      "Loading data\\2023030274-1.pdf\n",
      "Loading data\\2023030280-1.pdf\n",
      "Loading data\\2023030282-1.pdf\n",
      "Loading data\\2023030287-2.pdf\n",
      "Loading data\\2023030287-3.pdf\n",
      "Loading data\\2023030288-2.pdf\n",
      "Loading data\\2023030293-1.pdf\n",
      "Loading data\\2023030298.pdf\n",
      "Loading data\\20231019830058002.pdf\n",
      "Loading data\\20231019850001859 (1).pdf\n",
      "Loading data\\20231019850001859.pdf\n",
      "Loading data\\20240716890312078.pdf\n",
      "Loading data\\2025050838.pdf\n",
      "Loading data\\6.LANDMARK JUDGMENTS OF THE SUPREME COURT PLAIN.pdf\n",
      "Loading data\\CAA_2019_dec.pdf\n",
      "Loading data\\cases.pdf\n",
      "Loading data\\constitutionOfIndia.pdf\n",
      "Found Constitution of India document - will give special weightage\n",
      "Loading data\\HC_merged.pdf\n",
      "Loading data\\RM_23_01_2016_01.pdf\n",
      "Loading data\\SCF final_merged.pdf\n",
      "Loading data\\Supreme-Court-Landmark-Cases-2024.pdf\n",
      "Loaded 2373 regular document pages\n",
      "Loaded 404 Constitution document pages\n"
     ]
    }
   ],
   "source": [
    "def load_documents(data_dir=DATA_DIR):\n",
    "    \"\"\"Load PDF documents from the data directory\"\"\"\n",
    "    documents = []\n",
    "    constitution_docs = []\n",
    "    \n",
    "    # Get all PDF files from the data directory\n",
    "    pdf_files = [os.path.join(data_dir, file) for file in os.listdir(data_dir) if file.endswith('.pdf')]\n",
    "    \n",
    "    print(f\"Found {len(pdf_files)} PDF files\")\n",
    "    \n",
    "    # First, check if Constitution of India exists\n",
    "    constitution_path = os.path.join(data_dir, \"constitutionOfIndia.pdf\")\n",
    "    \n",
    "    # Load each PDF file\n",
    "    for pdf_file in pdf_files:\n",
    "        try:\n",
    "            print(f\"Loading {pdf_file}\")\n",
    "            loader = PyPDFLoader(pdf_file)\n",
    "            loaded_docs = loader.load()\n",
    "            \n",
    "            # Separate Constitution of India from other documents\n",
    "            if pdf_file == constitution_path:\n",
    "                print(\"Found Constitution of India document - will give special weightage\")\n",
    "                constitution_docs.extend(loaded_docs)\n",
    "            else:\n",
    "                documents.extend(loaded_docs)\n",
    "                \n",
    "        except Exception as e:\n",
    "            print(f\"Error loading {pdf_file}: {e}\")\n",
    "    \n",
    "    return documents, constitution_docs\n",
    "\n",
    "# Load the documents\n",
    "regular_docs, constitution_docs = load_documents()\n",
    "\n",
    "print(f\"Loaded {len(regular_docs)} regular document pages\")\n",
    "print(f\"Loaded {len(constitution_docs)} Constitution document pages\")"
   ]
  },
  {
   "cell_type": "markdown",
   "metadata": {},
   "source": [
    "## 3. Document Splitting\n",
    "\n",
    "Next, we'll split the documents into smaller chunks for embedding."
   ]
  },
  {
   "cell_type": "code",
   "execution_count": 3,
   "metadata": {},
   "outputs": [
    {
     "name": "stdout",
     "output_type": "stream",
     "text": [
      "Split 2373 documents into 6089 chunks\n",
      "Split 404 documents into 1471 chunks\n"
     ]
    }
   ],
   "source": [
    "def split_documents(documents, chunk_size=1000, chunk_overlap=200):\n",
    "    \"\"\"Split documents into chunks for embedding\"\"\"\n",
    "    text_splitter = RecursiveCharacterTextSplitter(\n",
    "        chunk_size=chunk_size,\n",
    "        chunk_overlap=chunk_overlap,\n",
    "        length_function=len,\n",
    "    )\n",
    "    \n",
    "    chunks = text_splitter.split_documents(documents)\n",
    "    print(f\"Split {len(documents)} documents into {len(chunks)} chunks\")\n",
    "    \n",
    "    return chunks\n",
    "\n",
    "# Split regular documents\n",
    "regular_chunks = split_documents(regular_docs)\n",
    "\n",
    "# Split constitution documents with smaller chunk size for more granularity\n",
    "constitution_chunks = split_documents(constitution_docs, chunk_size=800, chunk_overlap=150)"
   ]
  },
  {
   "cell_type": "markdown",
   "metadata": {},
   "source": [
    "## 4. Initialize Embeddings Model\n",
    "\n",
    "Now we'll initialize the HuggingFace embeddings model."
   ]
  },
  {
   "cell_type": "code",
   "execution_count": 4,
   "metadata": {},
   "outputs": [
    {
     "name": "stderr",
     "output_type": "stream",
     "text": [
      "C:\\Users\\upama\\AppData\\Local\\Temp\\ipykernel_4292\\956647416.py:6: LangChainDeprecationWarning: The class `HuggingFaceEmbeddings` was deprecated in LangChain 0.2.2 and will be removed in 1.0. An updated version of the class exists in the :class:`~langchain-huggingface package and should be used instead. To use it run `pip install -U :class:`~langchain-huggingface` and import as `from :class:`~langchain_huggingface import HuggingFaceEmbeddings``.\n",
      "  embeddings = HuggingFaceEmbeddings(\n",
      "c:\\Users\\upama\\anaconda3\\envs\\legal-chatbot\\lib\\site-packages\\tqdm\\auto.py:21: TqdmWarning: IProgress not found. Please update jupyter and ipywidgets. See https://ipywidgets.readthedocs.io/en/stable/user_install.html\n",
      "  from .autonotebook import tqdm as notebook_tqdm\n"
     ]
    },
    {
     "name": "stdout",
     "output_type": "stream",
     "text": [
      "Embeddings model initialized\n"
     ]
    }
   ],
   "source": [
    "def get_embeddings_model():\n",
    "    \"\"\"Initialize and return the HuggingFace embeddings model\"\"\"\n",
    "    model_name = \"sentence-transformers/all-MiniLM-L6-v2\"\n",
    "    \n",
    "    # Initialize the embeddings model\n",
    "    embeddings = HuggingFaceEmbeddings(\n",
    "        model_name=model_name,\n",
    "        model_kwargs={'device': 'cpu'},\n",
    "        encode_kwargs={'normalize_embeddings': True}\n",
    "    )\n",
    "    \n",
    "    return embeddings\n",
    "\n",
    "# Get embeddings model\n",
    "embeddings = get_embeddings_model()\n",
    "print(\"Embeddings model initialized\")"
   ]
  },
  {
   "cell_type": "markdown",
   "metadata": {},
   "source": [
    "## 5. Create Vector Store with Special Weightage for Constitution\n",
    "\n",
    "We'll create a vector store with special weightage for the Constitution of India by:\n",
    "1. Adding the Constitution documents multiple times to increase their representation\n",
    "2. Using metadata to identify Constitution chunks"
   ]
  },
  {
   "cell_type": "code",
   "execution_count": 5,
   "metadata": {},
   "outputs": [
    {
     "name": "stdout",
     "output_type": "stream",
     "text": [
      "Created 4413 weighted Constitution chunks\n",
      "Total chunks for vector store: 10502\n"
     ]
    }
   ],
   "source": [
    "# Add metadata to identify Constitution chunks\n",
    "for chunk in constitution_chunks:\n",
    "    if not chunk.metadata:\n",
    "        chunk.metadata = {}\n",
    "    chunk.metadata[\"source_type\"] = \"constitution\"\n",
    "    chunk.metadata[\"priority\"] = \"high\"\n",
    "\n",
    "# Add metadata to regular chunks\n",
    "for chunk in regular_chunks:\n",
    "    if not chunk.metadata:\n",
    "        chunk.metadata = {}\n",
    "    chunk.metadata[\"source_type\"] = \"regular\"\n",
    "    chunk.metadata[\"priority\"] = \"normal\"\n",
    "\n",
    "# Duplicate Constitution chunks to give them more weight (3x representation)\n",
    "weighted_constitution = constitution_chunks * 3\n",
    "print(f\"Created {len(weighted_constitution)} weighted Constitution chunks\")\n",
    "\n",
    "# Combine all chunks, with Constitution chunks appearing multiple times\n",
    "all_chunks = regular_chunks + weighted_constitution\n",
    "print(f\"Total chunks for vector store: {len(all_chunks)}\")"
   ]
  },
  {
   "cell_type": "code",
   "execution_count": 7,
   "metadata": {},
   "outputs": [
    {
     "name": "stdout",
     "output_type": "stream",
     "text": [
      "Vector store created and persisted to chroma_db\n"
     ]
    }
   ],
   "source": [
    "# Create and persist the vector store\n",
    "def create_vector_store(documents, embeddings, persist_directory=CHROMA_DIR):\n",
    "    \"\"\"Create and persist a vector store from documents\"\"\"\n",
    "    # Create the vector store with persistence\n",
    "    vector_store = Chroma.from_documents(\n",
    "        documents=documents,\n",
    "        embedding=embeddings,\n",
    "        persist_directory=persist_directory\n",
    "    )\n",
    "    \n",
    "    # Note: In newer versions of langchain_chroma, persistence is handled automatically\n",
    "    # when persist_directory is provided\n",
    "    \n",
    "    return vector_store\n",
    "\n",
    "# Create the vector store\n",
    "vector_store = create_vector_store(all_chunks, embeddings)\n",
    "print(f\"Vector store created and persisted to {CHROMA_DIR}\")"
   ]
  },
  {
   "cell_type": "markdown",
   "metadata": {},
   "source": [
    "## 6. Test Retrieval\n",
    "\n",
    "Let's test the retrieval to see if the Constitution is given proper weightage."
   ]
  },
  {
   "cell_type": "code",
   "execution_count": 8,
   "metadata": {},
   "outputs": [
    {
     "name": "stdout",
     "output_type": "stream",
     "text": [
      "\n",
      "Query: What are the fundamental rights in India?\n",
      "Retrieved 5 documents\n",
      "Constitution documents: 3\n",
      "Other documents: 2\n",
      "\n",
      "First result:\n",
      "Source: data\\2025050838.pdf\n",
      "Type: regular\n",
      "Content preview: participation of all stakeholders, the notion of representation in a democracy \n",
      "would be rendered hollow. [Paras 19, 21, 22]\n",
      "Constitution of India – Fundamental rights – Conflict of – Voter's right ...\n",
      "\n",
      "Query: Explain Article 21 of the Indian Constitution\n",
      "Retrieved 5 documents\n",
      "Constitution documents: 5\n",
      "Other documents: 0\n",
      "\n",
      "First result:\n",
      "Source: data\\constitutionOfIndia.pdf\n",
      "Type: constitution\n",
      "Content preview: THE CONSTITUTION OF  INDIA \n",
      "(Part XXI.—Temporary, Transitional and Special Provisions) \n",
      "235...\n",
      "\n",
      "Query: What is the process for impeachment of the President of India?\n",
      "Retrieved 5 documents\n",
      "Constitution documents: 3\n",
      "Other documents: 2\n",
      "\n",
      "First result:\n",
      "Source: data\\20240716890312078.pdf\n",
      "Type: regular\n",
      "Content preview: THE CONSTITUTION OF  INDIA(Part V.—The Union)29\"I,  A.B., do swear in the name of God that I will  faithfully  execute the office                           solemnly affirm of President (or discharge t...\n"
     ]
    }
   ],
   "source": [
    "# Test queries\n",
    "test_queries = [\n",
    "    \"What are the fundamental rights in India?\",\n",
    "    \"Explain Article 21 of the Indian Constitution\",\n",
    "    \"What is the process for impeachment of the President of India?\"\n",
    "]\n",
    "\n",
    "# Create a retriever\n",
    "retriever = vector_store.as_retriever(search_kwargs={\"k\": 5})\n",
    "\n",
    "# Test each query\n",
    "for query in test_queries:\n",
    "    print(f\"\\nQuery: {query}\")\n",
    "    docs = retriever.invoke(query)\n",
    "    \n",
    "    # Count how many results are from the Constitution\n",
    "    constitution_count = sum(1 for doc in docs if doc.metadata.get(\"source_type\") == \"constitution\")\n",
    "    \n",
    "    print(f\"Retrieved {len(docs)} documents\")\n",
    "    print(f\"Constitution documents: {constitution_count}\")\n",
    "    print(f\"Other documents: {len(docs) - constitution_count}\")\n",
    "    \n",
    "    # Print the first result\n",
    "    if docs:\n",
    "        print(\"\\nFirst result:\")\n",
    "        print(f\"Source: {docs[0].metadata.get('source')}\")\n",
    "        print(f\"Type: {docs[0].metadata.get('source_type')}\")\n",
    "        print(f\"Content preview: {docs[0].page_content[:200]}...\")"
   ]
  },
  {
   "cell_type": "markdown",
   "metadata": {},
   "source": [
    "## 7. Test Specific Legal Queries\n",
    "\n",
    "Let's test some specific legal queries about public protests and rights."
   ]
  },
  {
   "cell_type": "code",
   "execution_count": 12,
   "metadata": {},
   "outputs": [
    {
     "name": "stdout",
     "output_type": "stream",
     "text": [
      "\n",
      "Query: Is it legal to protest in public in India?\n",
      "Retrieved 5 documents\n",
      "Constitution documents: 0\n",
      "Other documents: 5\n",
      "\n",
      "First result:\n",
      "Source: data\\20240716890312078.pdf\n",
      "Type: regular\n",
      "Content preview: freedom of speech, etc.—(1) All citizens shall have the right—(a) to freedom of speech and expression;(b) to assemble peaceably and without arms;(c) to form associations or unions2[or co-operative soc...\n",
      "\n",
      "--------------------------------------------------\n",
      "\n",
      "Query: What are my rights if I am arrested in India?\n",
      "Retrieved 5 documents\n",
      "Constitution documents: 3\n",
      "Other documents: 2\n",
      "\n",
      "First result:\n",
      "Source: data\\20240716890312078.pdf\n",
      "Type: regular\n",
      "Content preview: THE CONSTITUTION OF  INDIA(Part III.—Fundamental Rights)12(2) Every person who is arrested and detained in custody shall be produced before the nearest magistrate within a period of twenty-four hours ...\n",
      "\n",
      "--------------------------------------------------\n",
      "\n",
      "Query: Can the government restrict freedom of speech in India?\n",
      "Retrieved 5 documents\n",
      "Constitution documents: 0\n",
      "Other documents: 5\n",
      "\n",
      "First result:\n",
      "Source: data\\SCF final_merged.pdf\n",
      "Type: regular\n",
      "Content preview: 10 \n",
      " \n",
      " \n",
      "belief. In Romesh Thappar v. State of Madras 4 and Brij \n",
      "Bhushan v. The State of Delhi 5, this Court firmly \n",
      "expressed its view that there could not be any kind of \n",
      "restriction on the freedom ...\n",
      "\n",
      "--------------------------------------------------\n",
      "\n",
      "Query: What is the legal age of marriage in India?\n",
      "Retrieved 5 documents\n",
      "Constitution documents: 0\n",
      "Other documents: 5\n",
      "\n",
      "First result:\n",
      "Source: data\\2025050838.pdf\n",
      "Type: regular\n",
      "Content preview: basis of the factual matrix in the particular case, evaluated on \n",
      "objective criteria and factors, without ignoring the objective of the \n",
      "statutory provisions. [Para 20]\n",
      "4. Section 13-B of the Hindu Ma...\n",
      "\n",
      "--------------------------------------------------\n",
      "\n",
      "Query: What are the laws regarding property inheritance in India?\n",
      "Retrieved 5 documents\n",
      "Constitution documents: 5\n",
      "Other documents: 0\n",
      "\n",
      "First result:\n",
      "Source: data\\constitutionOfIndia.pdf\n",
      "Type: constitution\n",
      "Content preview: THE CONSTITUTION OF  INDIA \n",
      "(Seventh Schedule) \n",
      " \n",
      "322\n",
      " 5. Marriage and divorce; infants and minors; adoption; wills, intestacy \n",
      "and succession; joint family and partition; all matters in respect of wh...\n",
      "\n",
      "--------------------------------------------------\n"
     ]
    }
   ],
   "source": [
    "# Specific legal queries\n",
    "legal_queries = [\n",
    "    \"Is it legal to protest in public in India?\",\n",
    "    \"What are my rights if I am arrested in India?\",\n",
    "    \"Can the government restrict freedom of speech in India?\",\n",
    "    \"What is the legal age of marriage in India?\",\n",
    "    \"What are the laws regarding property inheritance in India?\"\n",
    "]\n",
    "\n",
    "# Test each query\n",
    "for query in legal_queries:\n",
    "    print(f\"\\nQuery: {query}\")\n",
    "    docs = retriever.invoke(query)\n",
    "    \n",
    "    # Count how many results are from the Constitution\n",
    "    constitution_count = sum(1 for doc in docs if doc.metadata.get(\"source_type\") == \"constitution\")\n",
    "    \n",
    "    print(f\"Retrieved {len(docs)} documents\")\n",
    "    print(f\"Constitution documents: {constitution_count}\")\n",
    "    print(f\"Other documents: {len(docs) - constitution_count}\")\n",
    "    \n",
    "    # Print the first result\n",
    "    if docs:\n",
    "        print(\"\\nFirst result:\")\n",
    "        print(f\"Source: {docs[0].metadata.get('source')}\")\n",
    "        print(f\"Type: {docs[0].metadata.get('source_type')}\")\n",
    "        print(f\"Content preview: {docs[0].page_content[:200]}...\")\n",
    "        print(\"\\n\" + \"-\"*50)"
   ]
  },
  {
   "cell_type": "markdown",
   "metadata": {},
   "source": [
    "## 8. Test Complete RAG Chain\n",
    "\n",
    "Now let's test the complete RAG chain with the LLM to generate answers based on retrieved documents."
   ]
  },
  {
   "cell_type": "code",
   "execution_count": 13,
   "metadata": {},
   "outputs": [
    {
     "name": "stdout",
     "output_type": "stream",
     "text": [
      "\n",
      "Question: Is it legal to protest in public in India?\n",
      "\n",
      "Answer:\n",
      "Yes, it is legal to protest in public in India. Citizens have the right to assemble peaceably and without arms, as enshrined in Article 19(1)(b) of the Constitution of India. This right is consistent with the principles of a constitutional democracy, where citizens can express their views and grievances concerning government policies and actions. However, this right may be subject to reasonable restrictions as specified in Article 19(2), which outlines the grounds on which such restrictions can be imposed.\n",
      "\n",
      "--------------------------------------------------------------------------------\n",
      "\n",
      "Question: What are my rights if I am arrested in India?\n",
      "\n",
      "Answer:\n",
      "If you are arrested in India, your rights include the following, as outlined in Article 22 of the Constitution of India:\n",
      "\n",
      "1. **Right to be Informed**: You have the right to be informed at the time of arrest of the reasons for your arrest.\n",
      "\n",
      "2. **Right to Legal Counsel**: You have the right to consult and be defended by a legal practitioner of your choice.\n",
      "\n",
      "3. **Right to be Produced Before a Magistrate**: According to Article 22(2), every person who is arrested and detained in custody shall be produced before the nearest magistrate within a period of twenty-four hours of such arrest, excluding the time necessary for the journey from the place of arrest to the court of the magistrate. You cannot be detained in custody beyond this period without the authority of a magistrate.\n",
      "\n",
      "4. **Preventive Detention Exceptions**: If you are arrested under a law providing for preventive detention, special rules apply. Article 22(3) states that the aforementioned rights do not apply to any person who is an enemy alien or to those arrested under preventive detention laws. However, such detention cannot exceed three months unless an Advisory Board has reported that there is sufficient cause for further detention.\n",
      "\n",
      "These rights are fundamental and ensure that individuals are protected against arbitrary arrest and detention.\n",
      "\n",
      "--------------------------------------------------------------------------------\n",
      "\n",
      "Question: Can the government restrict freedom of speech in India?\n",
      "\n",
      "Answer:\n",
      "Yes, the government can impose restrictions on freedom of speech in India, but such restrictions must fall within the framework established by Article 19(2) of the Constitution of India. According to this article, reasonable restrictions can be placed on the freedom of speech and expression in the interests of:\n",
      "\n",
      "- Sovereignty and integrity of India\n",
      "- Security of the State\n",
      "- Friendly relations with foreign States\n",
      "- Public order\n",
      "- Decency or morality\n",
      "- Contempt of Court\n",
      "- Defamation\n",
      "- Incitement to an offence\n",
      "\n",
      "However, as noted in the judgments of Romesh Thappar v. State of Madras and Brij Bhushan v. The State of Delhi, the Supreme Court has clarified that there cannot be any restrictions on freedom of speech and expression beyond those explicitly mentioned in Article 19(2). Therefore, any interference with this freedom in the name of public interest is not permissible unless it aligns with the specified restrictions.\n",
      "\n",
      "--------------------------------------------------------------------------------\n",
      "\n",
      "Question: What is the legal age of marriage in India?\n",
      "\n",
      "Answer:\n",
      "I don't know.\n",
      "\n",
      "--------------------------------------------------------------------------------\n",
      "\n",
      "Question: What are the laws regarding property inheritance in India?\n",
      "\n",
      "Answer:\n",
      "The laws regarding property inheritance in India are primarily governed by personal law, as referenced in the Constitution of India under the Seventh Schedule, specifically under item 5. This includes matters related to \"wills, intestacy and succession\" as well as \"joint family and partition.\" \n",
      "\n",
      "Each religious community in India has its own personal laws that dictate the rules of inheritance, such as Hindu Succession Act for Hindus, Muslim Personal Law for Muslims, and various other acts for Christians and others. These laws encompass the rights of individuals to inherit property, the distribution of property upon death (intestate or by will), and the rules surrounding joint family property and partition.\n",
      "\n",
      "In summary, property inheritance in India is subject to the personal laws of the individuals involved, as stated in Article 322 (5) of the Constitution of India.\n",
      "\n",
      "--------------------------------------------------------------------------------\n"
     ]
    }
   ],
   "source": [
    "# Import necessary libraries for the RAG chain\n",
    "from langchain_openai import ChatOpenAI\n",
    "from langchain.chains import create_retrieval_chain\n",
    "from langchain.chains.combine_documents import create_stuff_documents_chain\n",
    "from langchain.prompts import ChatPromptTemplate\n",
    "\n",
    "def create_rag_chain(retriever):\n",
    "    \"\"\"Create a RAG chain with the retriever and LLM\"\"\"\n",
    "    # Create the LLM\n",
    "    llm = ChatOpenAI(model=\"gpt-4o-mini\")\n",
    "    \n",
    "    # Create the prompt\n",
    "    system_template = \"\"\"You are an expert legal assistant specializing in Indian law. \n",
    "Use the following pieces of context to answer the user's question about Indian legal matters.\n",
    "If you don't know the answer, just say that you don't know, don't try to make up an answer.\n",
    "Keep your answers factual, precise, and based on the provided context.\n",
    "Always cite the specific legal document, case, or section of the constitution you're referencing.\n",
    "\n",
    "Context:\n",
    "{context}\n",
    "\n",
    "Question: {input}\n",
    "\"\"\"\n",
    "    \n",
    "    prompt = ChatPromptTemplate.from_messages([\n",
    "        (\"system\", system_template),\n",
    "    ])\n",
    "    \n",
    "    # Create the document chain\n",
    "    document_chain = create_stuff_documents_chain(llm, prompt)\n",
    "    \n",
    "    # Create the RAG chain\n",
    "    rag_chain = create_retrieval_chain(retriever, document_chain)\n",
    "    \n",
    "    return rag_chain\n",
    "\n",
    "# Create the RAG chain\n",
    "rag_chain = create_rag_chain(retriever)\n",
    "\n",
    "# Test the RAG chain with specific legal queries\n",
    "for query in legal_queries:\n",
    "    print(f\"\\nQuestion: {query}\")\n",
    "    response = rag_chain.invoke({\"input\": query})\n",
    "    print(\"\\nAnswer:\")\n",
    "    print(response[\"answer\"])\n",
    "    print(\"\\n\" + \"-\"*80)"
   ]
  },
  {
   "cell_type": "markdown",
   "metadata": {},
   "source": [
    "## 9. Save and Load Vector Store\n",
    "\n",
    "Demonstrate how to load the vector store for future use."
   ]
  },
  {
   "cell_type": "code",
   "execution_count": 9,
   "metadata": {},
   "outputs": [
    {
     "name": "stdout",
     "output_type": "stream",
     "text": [
      "Vector store loaded successfully\n",
      "Vector store contains 21004 documents\n"
     ]
    }
   ],
   "source": [
    "def load_vector_store(embeddings, persist_directory=CHROMA_DIR):\n",
    "    \"\"\"Load an existing vector store\"\"\"\n",
    "    if not os.path.exists(persist_directory):\n",
    "        raise ValueError(f\"Vector store directory {persist_directory} does not exist\")\n",
    "    \n",
    "    vector_store = Chroma(\n",
    "        persist_directory=persist_directory,\n",
    "        embedding_function=embeddings\n",
    "    )\n",
    "    \n",
    "    return vector_store\n",
    "\n",
    "# Load the vector store\n",
    "loaded_vector_store = load_vector_store(embeddings)\n",
    "print(\"Vector store loaded successfully\")\n",
    "\n",
    "# Check collection stats\n",
    "collection = loaded_vector_store._collection\n",
    "count = collection.count()\n",
    "print(f\"Vector store contains {count} documents\")"
   ]
  }
 ],
 "metadata": {
  "kernelspec": {
   "display_name": "legal-chatbot",
   "language": "python",
   "name": "python3"
  },
  "language_info": {
   "codemirror_mode": {
    "name": "ipython",
    "version": 3
   },
   "file_extension": ".py",
   "mimetype": "text/x-python",
   "name": "python",
   "nbconvert_exporter": "python",
   "pygments_lexer": "ipython3",
   "version": "3.10.18"
  }
 },
 "nbformat": 4,
 "nbformat_minor": 4
}
